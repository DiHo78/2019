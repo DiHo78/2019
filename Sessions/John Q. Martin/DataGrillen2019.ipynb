{
    "metadata": {
        "kernelspec": {
            "name": "SQL",
            "display_name": "SQL",
            "language": "sql"
        },
        "language_info": {
            "name": "sql",
            "version": ""
        }
    },
    "nbformat_minor": 2,
    "nbformat": 4,
    "cells": [
        {
            "cell_type": "markdown",
            "source": "Stack Overflow sample database obtained from https://www.brentozar.com/archive/2015/10/how-to-download-the-stack-overflow-database-via-bittorrent/.\r\n\r\nOriginal source: https://archive.org/details/stackexchange issued under license cc-by-sa 3.0 license (https://creativecommons.org/licenses/by-sa/3.0/)",
            "metadata": {}
        },
        {
            "cell_type": "markdown",
            "source": "## Demo 1 - Managed Instance Restore from Azure Blob Storage\r\n\r\nAssumptions\r\n* Azure blob storage has been provisioned.\r\n* Source SQL Server database has been backed up to Azure blob storage containers.\r\n\r\nFor more information on how to migrate databases to Managed Instance via Backup to URL please see [here](https://www.mssqltips.com/sqlservertip/5457/migrating-sql-server-databases-to-azure-managed-instances-with-native-backups/)\r\n\r\n### Step 1 - Create Credentails to access blob storage",
            "metadata": {}
        },
        {
            "cell_type": "code",
            "source": "CREATE CREDENTIAL [https://<StorageAccount>.blob.core.windows.net/stackoverflowdualdatafile]\r\n    WITH\r\n        IDENTITY='Shared Access Signature',\r\n        SECRET='<SAS Key>'\r\n;\r\nGO\r\nCREATE CREDENTIAL [https://<StorageAccount>.blob.core.windows.net/stackoverflowsingledatafile]\r\n    WITH\r\n        IDENTITY='Shared Access Signature',\r\n        SECRET='<SAS Key>'\r\n;\r\nGO\r\nCREATE CREDENTIAL [https://<StorageAccount>.blob.core.windows.net/stackoverflowquaddatafile]\r\n    WITH\r\n        IDENTITY='Shared Access Signature',\r\n        SECRET='<SAS Key>'\r\n;\r\nGO",
            "metadata": {},
            "outputs": [
                {
                    "output_type": "display_data",
                    "data": {
                        "text/html": "Commands completed successfully."
                    },
                    "metadata": {}
                },
                {
                    "output_type": "display_data",
                    "data": {
                        "text/html": "Commands completed successfully."
                    },
                    "metadata": {}
                },
                {
                    "output_type": "display_data",
                    "data": {
                        "text/html": "Commands completed successfully."
                    },
                    "metadata": {}
                },
                {
                    "output_type": "display_data",
                    "data": {
                        "text/html": "Total execution time: 00:00:00.203"
                    },
                    "metadata": {}
                }
            ],
            "execution_count": 1
        },
        {
            "cell_type": "markdown",
            "source": "### Step 2 - Restore Database to Managed Instance",
            "metadata": {}
        },
        {
            "cell_type": "code",
            "source": "RESTORE DATABASE StackOverflow2013_SingleFile\r\n    FROM URL = N'https://<StorageAccount>.blob.core.windows.net/stackoverflowsingledatafile/stackoverflow2013single.bak'\r\n;\r\nGO",
            "metadata": {},
            "outputs": [
                {
                    "output_type": "display_data",
                    "data": {
                        "text/html": "Commands completed successfully."
                    },
                    "metadata": {}
                },
                {
                    "output_type": "display_data",
                    "data": {
                        "text/html": "Total execution time: 00:27:45.740"
                    },
                    "metadata": {}
                }
            ],
            "execution_count": 2
        },
        {
            "cell_type": "code",
            "source": "RESTORE DATABASE StackOverflow2013_DualFile\r\n    FROM URL = N'https://<StorageAccount>.blob.core.windows.net/stackoverflowdualdatafile/stackoverflow2013dual.bak'\r\n;\r\nGO",
            "metadata": {},
            "outputs": [],
            "execution_count": 0
        },
        {
            "cell_type": "code",
            "source": "RESTORE DATABASE StackOverflow2013_QuadFile\r\n    FROM URL = N'https://<StorageAccount>.blob.core.windows.net/stackoverflowquaddatafile/stackoverflow2013quad.bak'\r\n;\r\nGO",
            "metadata": {},
            "outputs": [
                {
                    "output_type": "display_data",
                    "data": {
                        "text/html": "Commands completed successfully."
                    },
                    "metadata": {}
                },
                {
                    "output_type": "display_data",
                    "data": {
                        "text/html": "Total execution time: 00:27:05.792"
                    },
                    "metadata": {}
                }
            ],
            "execution_count": 3
        },
        {
            "cell_type": "markdown",
            "source": "## Demo 2 - Query Performance\r\nThis demo will look at how the number of files and size of files will impact query performance. Query details;\r\n* Query Source: https://data.stackexchange.com/stackoverflow/query/952/top-500-answerers-on-the-site\r\n* Query Author: Sam Saffron (https://data.stackexchange.com/users/1/sam-saffron)\r\n\r\n### Step 1 - Baesline performance query",
            "metadata": {}
        },
        {
            "cell_type": "code",
            "source": "USE [StackOverflow2013_SingleFile];\r\nGO\r\n\r\nSELECT \r\n    TOP 500\r\n    Users.Id as [User Link],\r\n    Count(Posts.Id) AS Answers,\r\n    CAST(AVG(CAST(Score AS float)) as numeric(6,2)) AS [Average Answer Score]\r\nFROM\r\n    Posts\r\n  INNER JOIN\r\n    Users ON Users.Id = OwnerUserId\r\nWHERE \r\n    PostTypeId = 2 and CommunityOwnedDate is null and ClosedDate is null\r\nGROUP BY\r\n    Users.Id, DisplayName\r\nHAVING\r\n    Count(Posts.Id) > 10\r\nORDER BY\r\n    [Average Answer Score] DESC",
            "metadata": {},
            "outputs": [
                {
                    "output_type": "display_data",
                    "data": {
                        "text/html": "Commands completed successfully."
                    },
                    "metadata": {}
                },
                {
                    "output_type": "error",
                    "ename": "",
                    "evalue": "Query failed: The operation was canceled.",
                    "traceback": []
                },
                {
                    "output_type": "display_data",
                    "data": {
                        "text/html": "Query was canceled by user"
                    },
                    "metadata": {}
                },
                {
                    "output_type": "display_data",
                    "data": {
                        "text/html": "Total execution time: 00:03:09.301"
                    },
                    "metadata": {}
                }
            ],
            "execution_count": 4
        },
        {
            "cell_type": "markdown",
            "source": "### Step 2 - Increase number of files (two data files)",
            "metadata": {}
        },
        {
            "cell_type": "code",
            "source": "USE [StackOverflow2013_Dual];\r\nGO\r\n\r\nSELECT \r\n    TOP 500\r\n    Users.Id as [User Link],\r\n    Count(Posts.Id) AS Answers,\r\n    CAST(AVG(CAST(Score AS float)) as numeric(6,2)) AS [Average Answer Score]\r\nFROM\r\n    Posts\r\n  INNER JOIN\r\n    Users ON Users.Id = OwnerUserId\r\nWHERE \r\n    PostTypeId = 2 and CommunityOwnedDate is null and ClosedDate is null\r\nGROUP BY\r\n    Users.Id, DisplayName\r\nHAVING\r\n    Count(Posts.Id) > 10\r\nORDER BY\r\n    [Average Answer Score] DESC",
            "metadata": {},
            "outputs": [],
            "execution_count": 0
        },
        {
            "cell_type": "markdown",
            "source": "### Step 3 - Increase number of files again (four)",
            "metadata": {}
        },
        {
            "cell_type": "code",
            "source": "USE [StackOverflow2013_Quad];\r\nGO\r\n\r\nSELECT \r\n    TOP 500\r\n    Users.Id as [User Link],\r\n    Count(Posts.Id) AS Answers,\r\n    CAST(AVG(CAST(Score AS float)) as numeric(6,2)) AS [Average Answer Score]\r\nFROM\r\n    Posts\r\n  INNER JOIN\r\n    Users ON Users.Id = OwnerUserId\r\nWHERE \r\n    PostTypeId = 2 and CommunityOwnedDate is null and ClosedDate is null\r\nGROUP BY\r\n    Users.Id, DisplayName\r\nHAVING\r\n    Count(Posts.Id) > 10\r\nORDER BY\r\n    [Average Answer Score] DESC",
            "metadata": {},
            "outputs": [],
            "execution_count": 0
        },
        {
            "cell_type": "markdown",
            "source": "### Step 4 - Increase file size to increase performance",
            "metadata": {}
        },
        {
            "cell_type": "code",
            "source": "ALTER DATABASE StackOverflow2013_SingleFile\r\n    MODIFY FILE\r\n    (\r\n        NAME = '<FileName>',\r\n        size = 1TB\r\n    )\r\n;\r\nGO",
            "metadata": {},
            "outputs": [],
            "execution_count": 0
        },
        {
            "cell_type": "markdown",
            "source": "### Step 5 - Re-run baseline query on single file db.",
            "metadata": {}
        },
        {
            "cell_type": "code",
            "source": "USE [StackOverflow2013_SingleFile];\r\nGO\r\n\r\nSELECT \r\n    TOP 500\r\n    Users.Id as [User Link],\r\n    Count(Posts.Id) AS Answers,\r\n    CAST(AVG(CAST(Score AS float)) as numeric(6,2)) AS [Average Answer Score]\r\nFROM\r\n    Posts\r\n  INNER JOIN\r\n    Users ON Users.Id = OwnerUserId\r\nWHERE \r\n    PostTypeId = 2 and CommunityOwnedDate is null and ClosedDate is null\r\nGROUP BY\r\n    Users.Id, DisplayName\r\nHAVING\r\n    Count(Posts.Id) > 10\r\nORDER BY\r\n    [Average Answer Score] DESC",
            "metadata": {},
            "outputs": [],
            "execution_count": 0
        }
    ]
}